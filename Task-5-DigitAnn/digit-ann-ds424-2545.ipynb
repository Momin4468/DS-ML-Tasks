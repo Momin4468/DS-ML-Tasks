{
 "cells": [
  {
   "cell_type": "code",
   "execution_count": null,
   "metadata": {
    "_cell_guid": "b1076dfc-b9ad-4769-8c92-a6c4dae69d19",
    "_uuid": "8f2839f25d086af736a60e9eeb907d3b93b6e0e5",
    "execution": {
     "iopub.execute_input": "2021-12-26T06:35:43.655521Z",
     "iopub.status.busy": "2021-12-26T06:35:43.654754Z",
     "iopub.status.idle": "2021-12-26T06:35:43.667242Z",
     "shell.execute_reply": "2021-12-26T06:35:43.666385Z",
     "shell.execute_reply.started": "2021-12-26T06:35:43.655474Z"
    }
   },
   "outputs": [],
   "source": [
    "import numpy as np\n",
    "import pandas as pd\n",
    "\n",
    "import tensorflow as tf\n",
    "from tensorflow import keras\n",
    "from keras.layers import Dense, Dropout, Flatten, Conv2D, MaxPool2D, BatchNormalization\n",
    "from keras.models import Sequential\n",
    "\n",
    "import os\n",
    "for dirname, _, filenames in os.walk('/kaggle/input'):\n",
    "    for filename in filenames:\n",
    "        print(os.path.join(dirname, filename))"
   ]
  },
  {
   "cell_type": "markdown",
   "metadata": {},
   "source": [
    "# 1. Load Data"
   ]
  },
  {
   "cell_type": "code",
   "execution_count": null,
   "metadata": {
    "execution": {
     "iopub.execute_input": "2021-12-26T06:35:45.726393Z",
     "iopub.status.busy": "2021-12-26T06:35:45.725533Z",
     "iopub.status.idle": "2021-12-26T06:35:50.116140Z",
     "shell.execute_reply": "2021-12-26T06:35:50.114733Z",
     "shell.execute_reply.started": "2021-12-26T06:35:45.726348Z"
    }
   },
   "outputs": [],
   "source": [
    "train = pd.read_csv(\"/kaggle/input/digit-recognizer/train.csv\")\n",
    "test = pd.read_csv(\"/kaggle/input/digit-recognizer/test.csv\")"
   ]
  },
  {
   "cell_type": "code",
   "execution_count": null,
   "metadata": {
    "execution": {
     "iopub.execute_input": "2021-12-26T06:35:50.118226Z",
     "iopub.status.busy": "2021-12-26T06:35:50.118008Z",
     "iopub.status.idle": "2021-12-26T06:35:50.137541Z",
     "shell.execute_reply": "2021-12-26T06:35:50.136369Z",
     "shell.execute_reply.started": "2021-12-26T06:35:50.118200Z"
    }
   },
   "outputs": [],
   "source": [
    "train.head()"
   ]
  },
  {
   "cell_type": "code",
   "execution_count": null,
   "metadata": {
    "execution": {
     "iopub.execute_input": "2021-12-26T06:35:50.139746Z",
     "iopub.status.busy": "2021-12-26T06:35:50.139313Z",
     "iopub.status.idle": "2021-12-26T06:35:50.236053Z",
     "shell.execute_reply": "2021-12-26T06:35:50.235238Z",
     "shell.execute_reply.started": "2021-12-26T06:35:50.139704Z"
    }
   },
   "outputs": [],
   "source": [
    "x_train = train.drop(['label'], axis=1)\n",
    "y_train = train.label"
   ]
  },
  {
   "cell_type": "code",
   "execution_count": null,
   "metadata": {
    "execution": {
     "iopub.execute_input": "2021-12-26T06:35:50.238739Z",
     "iopub.status.busy": "2021-12-26T06:35:50.238404Z",
     "iopub.status.idle": "2021-12-26T06:35:50.250906Z",
     "shell.execute_reply": "2021-12-26T06:35:50.249786Z",
     "shell.execute_reply.started": "2021-12-26T06:35:50.238673Z"
    }
   },
   "outputs": [],
   "source": [
    "print(x_train.shape)\n",
    "print(y_train.shape)\n",
    "print(test.shape)"
   ]
  },
  {
   "cell_type": "markdown",
   "metadata": {},
   "source": [
    "# 2. Data Preprocessing"
   ]
  },
  {
   "cell_type": "code",
   "execution_count": null,
   "metadata": {
    "execution": {
     "iopub.execute_input": "2021-12-26T06:35:52.949835Z",
     "iopub.status.busy": "2021-12-26T06:35:52.949132Z",
     "iopub.status.idle": "2021-12-26T06:35:53.055648Z",
     "shell.execute_reply": "2021-12-26T06:35:53.054786Z",
     "shell.execute_reply.started": "2021-12-26T06:35:52.949791Z"
    }
   },
   "outputs": [],
   "source": [
    "x_train = x_train / 255.0\n",
    "test = test / 255.0"
   ]
  },
  {
   "cell_type": "markdown",
   "metadata": {},
   "source": [
    "# 3. Modeling with ANN"
   ]
  },
  {
   "cell_type": "code",
   "execution_count": null,
   "metadata": {
    "execution": {
     "iopub.execute_input": "2021-12-26T06:12:48.993367Z",
     "iopub.status.busy": "2021-12-26T06:12:48.993087Z",
     "iopub.status.idle": "2021-12-26T06:12:49.517272Z",
     "shell.execute_reply": "2021-12-26T06:12:49.516431Z",
     "shell.execute_reply.started": "2021-12-26T06:12:48.993321Z"
    }
   },
   "outputs": [],
   "source": [
    "model = keras.models.Sequential([\n",
    "    keras.layers.Dense(units=512, activation='relu', input_shape=x_train.shape[1:]),\n",
    "    keras.layers.Dense(units=256, activation='relu'),\n",
    "    keras.layers.Dense(units=10, activation='softmax'),\n",
    "])"
   ]
  },
  {
   "cell_type": "code",
   "execution_count": null,
   "metadata": {
    "execution": {
     "iopub.execute_input": "2021-12-26T06:12:54.376164Z",
     "iopub.status.busy": "2021-12-26T06:12:54.375727Z",
     "iopub.status.idle": "2021-12-26T06:12:54.392284Z",
     "shell.execute_reply": "2021-12-26T06:12:54.391414Z",
     "shell.execute_reply.started": "2021-12-26T06:12:54.376127Z"
    }
   },
   "outputs": [],
   "source": [
    "sgd = tf.keras.optimizers.SGD(learning_rate=0.01, momentum=0.90)\n",
    "early_stopping_cb = keras.callbacks.EarlyStopping(patience=10, restore_best_weights=True)\n",
    "\n",
    "model.compile(optimizer=sgd, loss='sparse_categorical_crossentropy', metrics=['acc'])"
   ]
  },
  {
   "cell_type": "code",
   "execution_count": null,
   "metadata": {
    "execution": {
     "iopub.execute_input": "2021-12-26T06:13:00.989387Z",
     "iopub.status.busy": "2021-12-26T06:13:00.988417Z",
     "iopub.status.idle": "2021-12-26T06:13:42.784319Z",
     "shell.execute_reply": "2021-12-26T06:13:42.783382Z",
     "shell.execute_reply.started": "2021-12-26T06:13:00.989318Z"
    }
   },
   "outputs": [],
   "source": [
    "model.fit(x_train, y_train, epochs=5, validation_split=.20, callbacks=[early_stopping_cb])"
   ]
  },
  {
   "cell_type": "markdown",
   "metadata": {},
   "source": [
    "**Challange 1:** **Create the same model as above but with Dropout and Batch Normalization. Use the same optimizer and epochs number, then compare the performance. See if the variance was higher or lower this time.**\n",
    "\n",
    "**Challange 2:** **Use the first model. But now try at least 2 different optimizers and run training for same 5 epochs. See if other optimizers learn faster or not**"
   ]
  },
  {
   "cell_type": "code",
   "execution_count": null,
   "metadata": {
    "execution": {
     "iopub.execute_input": "2021-12-26T06:35:59.603977Z",
     "iopub.status.busy": "2021-12-26T06:35:59.603169Z",
     "iopub.status.idle": "2021-12-26T06:35:59.613666Z",
     "shell.execute_reply": "2021-12-26T06:35:59.612822Z",
     "shell.execute_reply.started": "2021-12-26T06:35:59.603919Z"
    }
   },
   "outputs": [],
   "source": [
    "tf.keras.layers.BatchNormalization(\n",
    "    axis=-1, momentum=0.99, epsilon=0.001, center=True, scale=True,\n",
    "    beta_initializer='zeros', gamma_initializer='ones',\n",
    "    moving_mean_initializer='zeros',\n",
    "    moving_variance_initializer='ones', beta_regularizer=None,\n",
    "    gamma_regularizer=None, beta_constraint=None, gamma_constraint=None, \n",
    ")"
   ]
  },
  {
   "cell_type": "code",
   "execution_count": null,
   "metadata": {
    "execution": {
     "iopub.execute_input": "2021-12-26T06:36:02.542635Z",
     "iopub.status.busy": "2021-12-26T06:36:02.542353Z",
     "iopub.status.idle": "2021-12-26T06:36:02.599208Z",
     "shell.execute_reply": "2021-12-26T06:36:02.598552Z",
     "shell.execute_reply.started": "2021-12-26T06:36:02.542604Z"
    }
   },
   "outputs": [],
   "source": [
    "model2 = Sequential()\n",
    "\n",
    "model2.add(Conv2D(filters = 64, kernel_size = (5,5),padding = 'Same', activation ='relu', input_shape = (28,28,1)))\n",
    "model2.add(BatchNormalization())\n",
    "\n",
    "model2.add(Conv2D(filters = 64, kernel_size = (5,5),padding = 'Same', activation ='relu'))\n",
    "model2.add(BatchNormalization())\n",
    "\n",
    "model2.add(MaxPool2D(pool_size=(2,2)))\n",
    "model2.add(Dropout(0.25))\n",
    "\n",
    "model2.add(Conv2D(filters = 64, kernel_size = (3,3),padding = 'Same', activation ='relu'))\n",
    "model2.add(BatchNormalization())\n",
    "\n",
    "model2.add(Conv2D(filters = 64, kernel_size = (3,3),padding = 'Same', activation ='relu'))\n",
    "model2.add(BatchNormalization())\n",
    "model2.add(MaxPool2D(pool_size=(2,2), strides=(2,2)))\n",
    "model2.add(Dropout(0.25))\n",
    "\n",
    "model2.add(Conv2D(filters = 64, kernel_size = (3,3), padding = 'Same',  activation ='relu'))\n",
    "model2.add(BatchNormalization())\n",
    "model2.add(Dropout(0.25))\n",
    "\n",
    "model2.add(Flatten())\n",
    "model2.add(Dense(256, activation = \"relu\"))\n",
    "model2.add(BatchNormalization())\n",
    "model2.add(Dropout(0.25))\n",
    "\n",
    "model2.add(Dense(10, activation = \"softmax\"))"
   ]
  },
  {
   "cell_type": "code",
   "execution_count": null,
   "metadata": {
    "execution": {
     "iopub.execute_input": "2021-12-26T06:36:05.395897Z",
     "iopub.status.busy": "2021-12-26T06:36:05.395509Z",
     "iopub.status.idle": "2021-12-26T06:36:05.404777Z",
     "shell.execute_reply": "2021-12-26T06:36:05.404187Z",
     "shell.execute_reply.started": "2021-12-26T06:36:05.395868Z"
    }
   },
   "outputs": [],
   "source": [
    "model2.compile(optimizer='adam',\n",
    "              loss='sparse_categorical_crossentropy',\n",
    "              metrics=['accuracy'])"
   ]
  },
  {
   "cell_type": "code",
   "execution_count": null,
   "metadata": {
    "execution": {
     "iopub.execute_input": "2021-12-26T06:36:07.682760Z",
     "iopub.status.busy": "2021-12-26T06:36:07.681902Z",
     "iopub.status.idle": "2021-12-26T06:36:08.240477Z",
     "shell.execute_reply": "2021-12-26T06:36:08.239443Z",
     "shell.execute_reply.started": "2021-12-26T06:36:07.682705Z"
    }
   },
   "outputs": [],
   "source": [
    "Model_hits=model2.fit(x_train,y_train,epochs=50,validation_data=(x_test, y_test),callbacks=[tensorboard_callback])"
   ]
  },
  {
   "cell_type": "code",
   "execution_count": null,
   "metadata": {},
   "outputs": [],
   "source": [
    "RMSprop = tf.keras.optimizers.RMSprop(learning_rate=0.01, momentum=0.0,rho=0.9,epsilon=1e-07,centered=False,name=\"RMSprop\")\n",
    "early_stopping_cb = keras.callbacks.EarlyStopping(patience=10, restore_best_weights=True)\n",
    "\n",
    "model.compile(optimizer=RMSprop, loss='sparse_categorical_crossentropy', metrics=['acc'])"
   ]
  },
  {
   "cell_type": "code",
   "execution_count": null,
   "metadata": {},
   "outputs": [],
   "source": [
    "model.fit(x_train, y_train, epochs=5, validation_split=.20, callbacks=[early_stopping_cb])"
   ]
  },
  {
   "cell_type": "code",
   "execution_count": null,
   "metadata": {},
   "outputs": [],
   "source": [
    "Adam = tf.keras.optimizers.Adam(learning_rate=0.001,beta_1=0.9,beta_2=0.999,epsilon=1e-07,amsgrad=False,name=\"Adam\")\n",
    "early_stopping_cb = keras.callbacks.EarlyStopping(patience=10, restore_best_weights=True)\n",
    "\n",
    "model.compile(optimizer=Adam, loss='sparse_categorical_crossentropy', metrics=['acc'])"
   ]
  },
  {
   "cell_type": "code",
   "execution_count": null,
   "metadata": {},
   "outputs": [],
   "source": [
    "model.fit(x_train, y_train, epochs=5, validation_split=.20, callbacks=[early_stopping_cb])"
   ]
  },
  {
   "cell_type": "markdown",
   "metadata": {},
   "source": [
    "# 5. Evaluation and Error Analysis"
   ]
  },
  {
   "cell_type": "markdown",
   "metadata": {},
   "source": [
    "**Challange 3:** **Randomly select 1000 images from your train data. Can you do a stratified sampling? See the `stratify` parameter of the `train_test_split` function.**\n",
    "\n",
    "**Challange 4:** **Now select the best model from above and evaluate your predictions using these 1000 samples with a confusion matrix.**\n",
    "\n",
    "**Challange 5:** **Can you identify the images that your model got wrong? Plot those images and in the title write the actual class and the predicted class.**"
   ]
  },
  {
   "cell_type": "code",
   "execution_count": null,
   "metadata": {},
   "outputs": [],
   "source": [
    "from sklearn.model_selection import train_test_split\n",
    "from sklearn import cross_validation\n",
    "\n",
    "x_train, x_test, y_train, y_test = cross_validation.train_test_split(x_train,y_train,train_size=.8, stratify=y_train)"
   ]
  },
  {
   "cell_type": "code",
   "execution_count": null,
   "metadata": {},
   "outputs": [],
   "source": [
    "from sklearn.model_selection import cross_val_predict\n",
    "y_train_pred = cross_val_predict(sgd_clf, X_train, y_train, cv=3)\n",
    " \n",
    " \n",
    "from sklearn.metrics import confusion_matrix\n",
    "confusion_matrix(y_train, y_train_pred)"
   ]
  },
  {
   "cell_type": "code",
   "execution_count": null,
   "metadata": {},
   "outputs": [],
   "source": [
    "plt.plot(epochs, y_train, 'g', label='Actual Class')\n",
    "plt.plot(epochs, y_pred, 'b', label='Prediction Class')\n",
    "plt.title('Actual and Prediction Difference')\n",
    "plt.xlabel('Actual')\n",
    "plt.ylabel('Predicted')\n",
    "plt.legend()\n",
    "plt.show()"
   ]
  }
 ],
 "metadata": {
  "kernelspec": {
   "display_name": "Python 3 (ipykernel)",
   "language": "python",
   "name": "python3"
  },
  "language_info": {
   "codemirror_mode": {
    "name": "ipython",
    "version": 3
   },
   "file_extension": ".py",
   "mimetype": "text/x-python",
   "name": "python",
   "nbconvert_exporter": "python",
   "pygments_lexer": "ipython3",
   "version": "3.11.5"
  }
 },
 "nbformat": 4,
 "nbformat_minor": 4
}
