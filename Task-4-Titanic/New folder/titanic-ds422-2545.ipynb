{
 "cells": [
  {
   "cell_type": "code",
   "execution_count": 100,
   "metadata": {
    "_cell_guid": "b1076dfc-b9ad-4769-8c92-a6c4dae69d19",
    "_uuid": "8f2839f25d086af736a60e9eeb907d3b93b6e0e5",
    "execution": {
     "iopub.execute_input": "2021-12-25T09:58:15.500764Z",
     "iopub.status.busy": "2021-12-25T09:58:15.500249Z",
     "iopub.status.idle": "2021-12-25T09:58:15.514505Z",
     "shell.execute_reply": "2021-12-25T09:58:15.513365Z",
     "shell.execute_reply.started": "2021-12-25T09:58:15.500705Z"
    }
   },
   "outputs": [],
   "source": [
    "import numpy as np\n",
    "import pandas as pd\n",
    "from matplotlib import pyplot as plt\n",
    "import seaborn as sns\n",
    "\n",
    "\n",
    "from sklearn.base import BaseEstimator, TransformerMixin\n",
    "from sklearn.preprocessing import MinMaxScaler, LabelEncoder\n",
    "from sklearn.model_selection import train_test_split, StratifiedKFold\n",
    "from sklearn.metrics import accuracy_score, precision_score, recall_score, f1_score"
   ]
  },
  {
   "cell_type": "markdown",
   "metadata": {},
   "source": [
    "# 1. Loading Data"
   ]
  },
  {
   "cell_type": "code",
   "execution_count": 101,
   "metadata": {},
   "outputs": [],
   "source": [
    "train_dt = pd.read_csv(\"C:/Users/z2m09/Desktop/titanic/train.csv\") \n",
    "dtypes = train_dt.dtypes # Get the dtypes\n",
    "cols = train_dt.columns # Get the columns      "
   ]
  },
  {
   "cell_type": "code",
   "execution_count": 102,
   "metadata": {},
   "outputs": [
    {
     "name": "stdout",
     "output_type": "stream",
     "text": [
      "<class 'pandas.core.frame.DataFrame'>\n",
      "RangeIndex: 891 entries, 0 to 890\n",
      "Data columns (total 12 columns):\n",
      " #   Column       Non-Null Count  Dtype  \n",
      "---  ------       --------------  -----  \n",
      " 0   PassengerId  891 non-null    int64  \n",
      " 1   Survived     891 non-null    int64  \n",
      " 2   Pclass       891 non-null    int64  \n",
      " 3   Name         891 non-null    object \n",
      " 4   Sex          891 non-null    object \n",
      " 5   Age          714 non-null    float64\n",
      " 6   SibSp        891 non-null    int64  \n",
      " 7   Parch        891 non-null    int64  \n",
      " 8   Ticket       891 non-null    object \n",
      " 9   Fare         891 non-null    float64\n",
      " 10  Cabin        204 non-null    object \n",
      " 11  Embarked     889 non-null    object \n",
      "dtypes: float64(2), int64(5), object(5)\n",
      "memory usage: 83.7+ KB\n"
     ]
    }
   ],
   "source": [
    "train_dt.info()"
   ]
  },
  {
   "cell_type": "code",
   "execution_count": 103,
   "metadata": {},
   "outputs": [],
   "source": [
    "dtype_dictionary = {} \n",
    "for c in cols:\n",
    "    if str(dtypes[c]) == 'int64':\n",
    "        dtype_dictionary[c] = 'int16'\n",
    "    elif str(dtypes[c]) == 'float64':\n",
    "        dtype_dictionary[c] = 'float16'\n",
    "    else:\n",
    "        dtype_dictionary[c] = str(dtypes[c])"
   ]
  },
  {
   "cell_type": "code",
   "execution_count": 104,
   "metadata": {},
   "outputs": [],
   "source": [
    "# Load Data with increased speed and reduced memory.\n",
    "train = pd.read_csv(\"C:/Users/z2m09/Desktop/titanic/train.csv\", dtype=dtype_dictionary)\n",
    "test = pd.read_csv(\"C:/Users/z2m09/Desktop/titanic/test.csv\", dtype=dtype_dictionary)"
   ]
  },
  {
   "cell_type": "code",
   "execution_count": 105,
   "metadata": {
    "execution": {
     "iopub.execute_input": "2021-12-25T09:57:32.459516Z",
     "iopub.status.busy": "2021-12-25T09:57:32.45859Z",
     "iopub.status.idle": "2021-12-25T09:57:32.484404Z",
     "shell.execute_reply": "2021-12-25T09:57:32.483803Z",
     "shell.execute_reply.started": "2021-12-25T09:57:32.459469Z"
    }
   },
   "outputs": [
    {
     "name": "stdout",
     "output_type": "stream",
     "text": [
      "<class 'pandas.core.frame.DataFrame'>\n",
      "RangeIndex: 891 entries, 0 to 890\n",
      "Data columns (total 12 columns):\n",
      " #   Column       Non-Null Count  Dtype  \n",
      "---  ------       --------------  -----  \n",
      " 0   PassengerId  891 non-null    int16  \n",
      " 1   Survived     891 non-null    int16  \n",
      " 2   Pclass       891 non-null    int16  \n",
      " 3   Name         891 non-null    object \n",
      " 4   Sex          891 non-null    object \n",
      " 5   Age          714 non-null    float16\n",
      " 6   SibSp        891 non-null    int16  \n",
      " 7   Parch        891 non-null    int16  \n",
      " 8   Ticket       891 non-null    object \n",
      " 9   Fare         891 non-null    float16\n",
      " 10  Cabin        204 non-null    object \n",
      " 11  Embarked     889 non-null    object \n",
      "dtypes: float16(2), int16(5), object(5)\n",
      "memory usage: 47.1+ KB\n"
     ]
    }
   ],
   "source": [
    "train.info()"
   ]
  },
  {
   "cell_type": "code",
   "execution_count": 106,
   "metadata": {
    "execution": {
     "iopub.execute_input": "2021-12-25T09:57:31.137117Z",
     "iopub.status.busy": "2021-12-25T09:57:31.136452Z",
     "iopub.status.idle": "2021-12-25T09:57:31.162312Z",
     "shell.execute_reply": "2021-12-25T09:57:31.161724Z",
     "shell.execute_reply.started": "2021-12-25T09:57:31.137069Z"
    }
   },
   "outputs": [
    {
     "data": {
      "text/html": [
       "<div>\n",
       "<style scoped>\n",
       "    .dataframe tbody tr th:only-of-type {\n",
       "        vertical-align: middle;\n",
       "    }\n",
       "\n",
       "    .dataframe tbody tr th {\n",
       "        vertical-align: top;\n",
       "    }\n",
       "\n",
       "    .dataframe thead th {\n",
       "        text-align: right;\n",
       "    }\n",
       "</style>\n",
       "<table border=\"1\" class=\"dataframe\">\n",
       "  <thead>\n",
       "    <tr style=\"text-align: right;\">\n",
       "      <th></th>\n",
       "      <th>PassengerId</th>\n",
       "      <th>Survived</th>\n",
       "      <th>Pclass</th>\n",
       "      <th>Name</th>\n",
       "      <th>Sex</th>\n",
       "      <th>Age</th>\n",
       "      <th>SibSp</th>\n",
       "      <th>Parch</th>\n",
       "      <th>Ticket</th>\n",
       "      <th>Fare</th>\n",
       "      <th>Cabin</th>\n",
       "      <th>Embarked</th>\n",
       "    </tr>\n",
       "  </thead>\n",
       "  <tbody>\n",
       "    <tr>\n",
       "      <th>0</th>\n",
       "      <td>1</td>\n",
       "      <td>0</td>\n",
       "      <td>3</td>\n",
       "      <td>Braund, Mr. Owen Harris</td>\n",
       "      <td>male</td>\n",
       "      <td>22.0</td>\n",
       "      <td>1</td>\n",
       "      <td>0</td>\n",
       "      <td>A/5 21171</td>\n",
       "      <td>7.250000</td>\n",
       "      <td>NaN</td>\n",
       "      <td>S</td>\n",
       "    </tr>\n",
       "    <tr>\n",
       "      <th>1</th>\n",
       "      <td>2</td>\n",
       "      <td>1</td>\n",
       "      <td>1</td>\n",
       "      <td>Cumings, Mrs. John Bradley (Florence Briggs Th...</td>\n",
       "      <td>female</td>\n",
       "      <td>38.0</td>\n",
       "      <td>1</td>\n",
       "      <td>0</td>\n",
       "      <td>PC 17599</td>\n",
       "      <td>71.312500</td>\n",
       "      <td>C85</td>\n",
       "      <td>C</td>\n",
       "    </tr>\n",
       "    <tr>\n",
       "      <th>2</th>\n",
       "      <td>3</td>\n",
       "      <td>1</td>\n",
       "      <td>3</td>\n",
       "      <td>Heikkinen, Miss. Laina</td>\n",
       "      <td>female</td>\n",
       "      <td>26.0</td>\n",
       "      <td>0</td>\n",
       "      <td>0</td>\n",
       "      <td>STON/O2. 3101282</td>\n",
       "      <td>7.925781</td>\n",
       "      <td>NaN</td>\n",
       "      <td>S</td>\n",
       "    </tr>\n",
       "    <tr>\n",
       "      <th>3</th>\n",
       "      <td>4</td>\n",
       "      <td>1</td>\n",
       "      <td>1</td>\n",
       "      <td>Futrelle, Mrs. Jacques Heath (Lily May Peel)</td>\n",
       "      <td>female</td>\n",
       "      <td>35.0</td>\n",
       "      <td>1</td>\n",
       "      <td>0</td>\n",
       "      <td>113803</td>\n",
       "      <td>53.093750</td>\n",
       "      <td>C123</td>\n",
       "      <td>S</td>\n",
       "    </tr>\n",
       "    <tr>\n",
       "      <th>4</th>\n",
       "      <td>5</td>\n",
       "      <td>0</td>\n",
       "      <td>3</td>\n",
       "      <td>Allen, Mr. William Henry</td>\n",
       "      <td>male</td>\n",
       "      <td>35.0</td>\n",
       "      <td>0</td>\n",
       "      <td>0</td>\n",
       "      <td>373450</td>\n",
       "      <td>8.046875</td>\n",
       "      <td>NaN</td>\n",
       "      <td>S</td>\n",
       "    </tr>\n",
       "  </tbody>\n",
       "</table>\n",
       "</div>"
      ],
      "text/plain": [
       "   PassengerId  Survived  Pclass  \\\n",
       "0            1         0       3   \n",
       "1            2         1       1   \n",
       "2            3         1       3   \n",
       "3            4         1       1   \n",
       "4            5         0       3   \n",
       "\n",
       "                                                Name     Sex   Age  SibSp  \\\n",
       "0                            Braund, Mr. Owen Harris    male  22.0      1   \n",
       "1  Cumings, Mrs. John Bradley (Florence Briggs Th...  female  38.0      1   \n",
       "2                             Heikkinen, Miss. Laina  female  26.0      0   \n",
       "3       Futrelle, Mrs. Jacques Heath (Lily May Peel)  female  35.0      1   \n",
       "4                           Allen, Mr. William Henry    male  35.0      0   \n",
       "\n",
       "   Parch            Ticket       Fare Cabin Embarked  \n",
       "0      0         A/5 21171   7.250000   NaN        S  \n",
       "1      0          PC 17599  71.312500   C85        C  \n",
       "2      0  STON/O2. 3101282   7.925781   NaN        S  \n",
       "3      0            113803  53.093750  C123        S  \n",
       "4      0            373450   8.046875   NaN        S  "
      ]
     },
     "execution_count": 106,
     "metadata": {},
     "output_type": "execute_result"
    }
   ],
   "source": [
    "train.head()"
   ]
  },
  {
   "cell_type": "code",
   "execution_count": 107,
   "metadata": {
    "execution": {
     "iopub.execute_input": "2021-12-25T09:57:31.883176Z",
     "iopub.status.busy": "2021-12-25T09:57:31.88263Z",
     "iopub.status.idle": "2021-12-25T09:57:31.888966Z",
     "shell.execute_reply": "2021-12-25T09:57:31.887961Z",
     "shell.execute_reply.started": "2021-12-25T09:57:31.883138Z"
    }
   },
   "outputs": [
    {
     "name": "stdout",
     "output_type": "stream",
     "text": [
      "(891, 12)\n",
      "(418, 11)\n"
     ]
    }
   ],
   "source": [
    "print(train.shape)\n",
    "print(test.shape)"
   ]
  },
  {
   "cell_type": "markdown",
   "metadata": {},
   "source": [
    "#### If your DataFrame contains lots of empty values or missing values or NANs you can reduce their memory footprint by converting them to Sparse Series. For example: "
   ]
  },
  {
   "cell_type": "code",
   "execution_count": 108,
   "metadata": {},
   "outputs": [],
   "source": [
    "series1 = train_dt['Cabin']"
   ]
  },
  {
   "cell_type": "code",
   "execution_count": 109,
   "metadata": {},
   "outputs": [
    {
     "data": {
      "text/plain": [
       "34344"
      ]
     },
     "execution_count": 109,
     "metadata": {},
     "output_type": "execute_result"
    }
   ],
   "source": [
    "series1.memory_usage(index=False, deep=True)"
   ]
  },
  {
   "cell_type": "code",
   "execution_count": 110,
   "metadata": {},
   "outputs": [
    {
     "data": {
      "text/plain": [
       "1              C85\n",
       "3             C123\n",
       "6              E46\n",
       "10              G6\n",
       "11            C103\n",
       "          ...     \n",
       "871            D35\n",
       "872    B51 B53 B55\n",
       "879            C50\n",
       "887            B42\n",
       "889           C148\n",
       "Name: Cabin, Length: 204, dtype: object"
      ]
     },
     "execution_count": 110,
     "metadata": {},
     "output_type": "execute_result"
    }
   ],
   "source": [
    "series1.dropna()"
   ]
  },
  {
   "cell_type": "code",
   "execution_count": 111,
   "metadata": {},
   "outputs": [],
   "source": [
    "sparse_series = series1.astype(\"Sparse[str]\")"
   ]
  },
  {
   "cell_type": "code",
   "execution_count": 112,
   "metadata": {},
   "outputs": [
    {
     "data": {
      "text/plain": [
       "29664"
      ]
     },
     "execution_count": 112,
     "metadata": {},
     "output_type": "execute_result"
    }
   ],
   "source": [
    "sparse_series.memory_usage(index=False, deep=True)"
   ]
  },
  {
   "cell_type": "markdown",
   "metadata": {},
   "source": [
    "# 2. Exploratory Analysis"
   ]
  },
  {
   "cell_type": "markdown",
   "metadata": {},
   "source": [
    "### Class Distribution\n",
    "Data are slightly imbalanced. Algorithms should optimize for metrics like F1."
   ]
  },
  {
   "cell_type": "code",
   "execution_count": 113,
   "metadata": {
    "execution": {
     "iopub.execute_input": "2021-12-25T09:57:34.067526Z",
     "iopub.status.busy": "2021-12-25T09:57:34.067071Z",
     "iopub.status.idle": "2021-12-25T09:57:34.273814Z",
     "shell.execute_reply": "2021-12-25T09:57:34.272765Z",
     "shell.execute_reply.started": "2021-12-25T09:57:34.067474Z"
    }
   },
   "outputs": [
    {
     "data": {
      "image/png": "[encoded data removed]",
      "text/plain": [
       "<Figure size 432x288 with 1 Axes>"
      ]
     },
     "metadata": {
      "needs_background": "light"
     },
     "output_type": "display_data"
    }
   ],
   "source": [
    "sns.countplot(data=train, x='Survived')\n",
    "ax = plt.gca()\n",
    "ax.set_xlabel('Survival Status')\n",
    "ax.set_xticklabels(['Dead', 'Survived'])\n",
    "ax.set_ylabel('Frequency')\n",
    "ax.set_title('Class Distribution')\n",
    "plt.show()"
   ]
  },
  {
   "cell_type": "code",
   "execution_count": 114,
   "metadata": {
    "execution": {
     "iopub.execute_input": "2021-12-25T09:57:34.445587Z",
     "iopub.status.busy": "2021-12-25T09:57:34.444772Z",
     "iopub.status.idle": "2021-12-25T09:57:35.084817Z",
     "shell.execute_reply": "2021-12-25T09:57:35.082606Z",
     "shell.execute_reply.started": "2021-12-25T09:57:34.445538Z"
    }
   },
   "outputs": [
    {
     "data": {
      "image/png": "[encoded data removed]",
      "text/plain": [
       "<Figure size 411.875x360 with 1 Axes>"
      ]
     },
     "metadata": {
      "needs_background": "light"
     },
     "output_type": "display_data"
    }
   ],
   "source": [
    "sns.displot(data=train, x='Age', hue='Survived', kde=True)\n",
    "ax = plt.gca()\n",
    "ax.set_xlabel('Age')\n",
    "ax.set_ylabel('Frequency')\n",
    "ax.set_title('Age Distribution')\n",
    "plt.show()"
   ]
  },
  {
   "cell_type": "code",
   "execution_count": 115,
   "metadata": {
    "execution": {
     "iopub.execute_input": "2021-12-25T09:57:35.086654Z",
     "iopub.status.busy": "2021-12-25T09:57:35.086403Z",
     "iopub.status.idle": "2021-12-25T09:57:35.296181Z",
     "shell.execute_reply": "2021-12-25T09:57:35.29553Z",
     "shell.execute_reply.started": "2021-12-25T09:57:35.086622Z"
    }
   },
   "outputs": [
    {
     "data": {
      "image/png": "[encoded data removed]",
      "text/plain": [
       "<Figure size 432x288 with 1 Axes>"
      ]
     },
     "metadata": {
      "needs_background": "light"
     },
     "output_type": "display_data"
    }
   ],
   "source": [
    "sns.countplot(data=train, x='Sex', hue='Survived')\n",
    "ax = plt.gca()\n",
    "ax.set_xlabel('Sex')\n",
    "ax.set_xticklabels(['Male', 'Female'])\n",
    "ax.set_ylabel('Frequency')\n",
    "ax.set_title('Gender Distribution')\n",
    "plt.show()"
   ]
  },
  {
   "cell_type": "code",
   "execution_count": 116,
   "metadata": {
    "execution": {
     "iopub.execute_input": "2021-12-25T09:57:35.298053Z",
     "iopub.status.busy": "2021-12-25T09:57:35.297641Z",
     "iopub.status.idle": "2021-12-25T09:57:35.520366Z",
     "shell.execute_reply": "2021-12-25T09:57:35.519512Z",
     "shell.execute_reply.started": "2021-12-25T09:57:35.298005Z"
    }
   },
   "outputs": [
    {
     "data": {
      "image/png": "[encoded data removed]",
      "text/plain": [
       "<Figure size 432x288 with 1 Axes>"
      ]
     },
     "metadata": {
      "needs_background": "light"
     },
     "output_type": "display_data"
    }
   ],
   "source": [
    "sns.countplot(data=train, x='Pclass', hue='Survived')\n",
    "ax = plt.gca()\n",
    "ax.set_xlabel('Passenger Class')\n",
    "ax.set_ylabel('Frequency')\n",
    "ax.set_title('Passenger Class Distribution')\n",
    "plt.show()"
   ]
  },
  {
   "cell_type": "code",
   "execution_count": 117,
   "metadata": {
    "execution": {
     "iopub.execute_input": "2021-12-25T09:57:35.525656Z",
     "iopub.status.busy": "2021-12-25T09:57:35.525326Z",
     "iopub.status.idle": "2021-12-25T09:57:35.752839Z",
     "shell.execute_reply": "2021-12-25T09:57:35.751891Z",
     "shell.execute_reply.started": "2021-12-25T09:57:35.525627Z"
    }
   },
   "outputs": [
    {
     "data": {
      "image/png": "[encoded data removed]",
      "text/plain": [
       "<Figure size 432x288 with 1 Axes>"
      ]
     },
     "metadata": {
      "needs_background": "light"
     },
     "output_type": "display_data"
    }
   ],
   "source": [
    "sns.countplot(data=train, x='Embarked', hue='Survived')\n",
    "ax = plt.gca()\n",
    "ax.set_xlabel('Embarked')\n",
    "ax.set_ylabel('Frequency')\n",
    "ax.set_title('Embarked Distribution')\n",
    "plt.show()"
   ]
  },
  {
   "cell_type": "markdown",
   "metadata": {},
   "source": [
    "The distribution of Fare column is too much skewed."
   ]
  },
  {
   "cell_type": "code",
   "execution_count": 118,
   "metadata": {
    "execution": {
     "iopub.execute_input": "2021-12-25T09:57:36.300004Z",
     "iopub.status.busy": "2021-12-25T09:57:36.299637Z",
     "iopub.status.idle": "2021-12-25T09:57:37.501345Z",
     "shell.execute_reply": "2021-12-25T09:57:37.500262Z",
     "shell.execute_reply.started": "2021-12-25T09:57:36.299967Z"
    }
   },
   "outputs": [
    {
     "data": {
      "image/png": "[encoded data removed]",
      "text/plain": [
       "<Figure size 411.875x360 with 1 Axes>"
      ]
     },
     "metadata": {
      "needs_background": "light"
     },
     "output_type": "display_data"
    }
   ],
   "source": [
    "sns.displot(data=train, x='Fare', hue='Survived', kde=True)\n",
    "ax = plt.gca()\n",
    "ax.set_xlabel('Fare')\n",
    "ax.set_ylabel('Frequency')\n",
    "ax.set_title('Fare Distribution')\n",
    "plt.show()"
   ]
  },
  {
   "cell_type": "markdown",
   "metadata": {},
   "source": [
    "Even in the logarithmic scale, the Fare column is skewed, probably due to outliers."
   ]
  },
  {
   "cell_type": "code",
   "execution_count": 119,
   "metadata": {
    "execution": {
     "iopub.execute_input": "2021-12-25T09:57:37.503244Z",
     "iopub.status.busy": "2021-12-25T09:57:37.503003Z",
     "iopub.status.idle": "2021-12-25T09:57:38.67625Z",
     "shell.execute_reply": "2021-12-25T09:57:38.675162Z",
     "shell.execute_reply.started": "2021-12-25T09:57:37.503215Z"
    }
   },
   "outputs": [
    {
     "data": {
      "image/png": "[encoded data removed]",
      "text/plain": [
       "<Figure size 411.875x360 with 1 Axes>"
      ]
     },
     "metadata": {
      "needs_background": "light"
     },
     "output_type": "display_data"
    }
   ],
   "source": [
    "sns.displot(data=train, x=np.log(train.Fare + 0.00001), hue='Survived', kde=True)\n",
    "ax = plt.gca()\n",
    "ax.set_xlabel('log(Fare)')\n",
    "ax.set_ylabel('Frequency')\n",
    "ax.set_title('Fare Distribution in Logarithmic Scale')\n",
    "plt.show()"
   ]
  },
  {
   "cell_type": "markdown",
   "metadata": {},
   "source": [
    "I'm guessing that the Fare values of 0.0 are actually missing values. So, I will impute them with an average value later."
   ]
  },
  {
   "cell_type": "code",
   "execution_count": 120,
   "metadata": {
    "execution": {
     "iopub.execute_input": "2021-12-25T09:57:38.677962Z",
     "iopub.status.busy": "2021-12-25T09:57:38.677734Z",
     "iopub.status.idle": "2021-12-25T09:57:38.686254Z",
     "shell.execute_reply": "2021-12-25T09:57:38.685224Z",
     "shell.execute_reply.started": "2021-12-25T09:57:38.677934Z"
    }
   },
   "outputs": [
    {
     "name": "stdout",
     "output_type": "stream",
     "text": [
      "0.0\n",
      "512.5\n",
      "(15, 12)\n"
     ]
    }
   ],
   "source": [
    "print(min(train.Fare))\n",
    "print(max(train.Fare))\n",
    "print(train[train.Fare == 0.0].shape)"
   ]
  },
  {
   "cell_type": "markdown",
   "metadata": {},
   "source": [
    "### Missing Values\n",
    "Since 77% of Cabin data is missing, we will simply discard that column. Then we will impute the missing Age values."
   ]
  },
  {
   "cell_type": "code",
   "execution_count": 121,
   "metadata": {
    "execution": {
     "iopub.execute_input": "2021-12-25T09:57:38.738622Z",
     "iopub.status.busy": "2021-12-25T09:57:38.738346Z",
     "iopub.status.idle": "2021-12-25T09:57:38.751914Z",
     "shell.execute_reply": "2021-12-25T09:57:38.750515Z",
     "shell.execute_reply.started": "2021-12-25T09:57:38.738594Z"
    }
   },
   "outputs": [
    {
     "data": {
      "text/plain": [
       "PassengerId     0.000000\n",
       "Survived        0.000000\n",
       "Pclass          0.000000\n",
       "Name            0.000000\n",
       "Sex             0.000000\n",
       "Age            19.865320\n",
       "SibSp           0.000000\n",
       "Parch           0.000000\n",
       "Ticket          0.000000\n",
       "Fare            0.000000\n",
       "Cabin          77.104377\n",
       "Embarked        0.224467\n",
       "dtype: float64"
      ]
     },
     "execution_count": 121,
     "metadata": {},
     "output_type": "execute_result"
    }
   ],
   "source": [
    "(train.isnull().sum() / train.shape[0]) * 100"
   ]
  },
  {
   "cell_type": "markdown",
   "metadata": {},
   "source": [
    "**Challange**: **Can you visualize something more? Perhaps some relationships between variables?**"
   ]
  },
  {
   "cell_type": "code",
   "execution_count": 131,
   "metadata": {},
   "outputs": [
    {
     "data": {
      "image/png": "[encoded data removed]",
      "text/plain": [
       "<Figure size 1440x864 with 2 Axes>"
      ]
     },
     "metadata": {
      "needs_background": "light"
     },
     "output_type": "display_data"
    }
   ],
   "source": [
    "sns.heatmap(train.corr(),annot=True,cmap='RdYlGn',linewidths=0.2) #data.corr()-->correlation matrix\n",
    "fig=plt.gcf()\n",
    "fig.set_size_inches(20,12)\n",
    "plt.show()"
   ]
  },
  {
   "cell_type": "code",
   "execution_count": 129,
   "metadata": {},
   "outputs": [
    {
     "data": {
      "image/png": "[encoded data removed]",
      "text/plain": [
       "<Figure size 432x288 with 1 Axes>"
      ]
     },
     "metadata": {
      "needs_background": "light"
     },
     "output_type": "display_data"
    }
   ],
   "source": [
    "sns.barplot(x = 'Sex',y = 'Age',data = train, palette = \"Blues\")\n",
    "plt.title('Age-Gender Chart')\n",
    "plt.xlabel('Sex')\n",
    "plt.ylabel('Age')\n",
    "plt.show()"
   ]
  },
  {
   "cell_type": "code",
   "execution_count": 130,
   "metadata": {},
   "outputs": [
    {
     "data": {
      "image/png": "[encoded data removed]",
      "text/plain": [
       "<Figure size 432x288 with 1 Axes>"
      ]
     },
     "metadata": {
      "needs_background": "light"
     },
     "output_type": "display_data"
    }
   ],
   "source": [
    "sns.barplot(x = 'Sex',y = 'Age',hue = 'Pclass',data = train, palette = \"Blues\")\n",
    "plt.title('Passenger Class wise gender ratio')\n",
    "plt.xlabel('Sex')\n",
    "plt.ylabel('Age') \n",
    "plt.show()"
   ]
  },
  {
   "cell_type": "code",
   "execution_count": 132,
   "metadata": {},
   "outputs": [
    {
     "data": {
      "image/png": "[encoded data removed]",
      "text/plain": [
       "<Figure size 432x288 with 1 Axes>"
      ]
     },
     "metadata": {
      "needs_background": "light"
     },
     "output_type": "display_data"
    }
   ],
   "source": [
    "sns.barplot(x = 'Sex',y = 'Age',hue = 'Survived',data = train, palette = \"Blues\")\n",
    "plt.title('Survival Ratio by Gender')\n",
    "plt.xlabel('Sex')\n",
    "plt.ylabel('Age') \n",
    "plt.show()"
   ]
  },
  {
   "cell_type": "code",
   "execution_count": 133,
   "metadata": {},
   "outputs": [
    {
     "data": {
      "text/plain": [
       "<AxesSubplot:xlabel='Survived', ylabel='Pclass'>"
      ]
     },
     "execution_count": 133,
     "metadata": {},
     "output_type": "execute_result"
    },
    {
     "data": {
      "image/png": "[encoded data removed]",
      "text/plain": [
       "<Figure size 432x288 with 2 Axes>"
      ]
     },
     "metadata": {
      "needs_background": "light"
     },
     "output_type": "display_data"
    }
   ],
   "source": [
    "group = train.groupby(['Pclass', 'Survived'])\n",
    "pclass_survived = group.size().unstack()\n",
    " \n",
    "sns.heatmap(pclass_survived, annot = True, fmt =\"d\")"
   ]
  },
  {
   "cell_type": "code",
   "execution_count": 134,
   "metadata": {},
   "outputs": [
    {
     "data": {
      "text/plain": [
       "<AxesSubplot:xlabel='Fare_Range', ylabel='Survived'>"
      ]
     },
     "execution_count": 134,
     "metadata": {},
     "output_type": "execute_result"
    },
    {
     "data": {
      "image/png": "[encoded data removed]",
      "text/plain": [
       "<Figure size 432x288 with 1 Axes>"
      ]
     },
     "metadata": {
      "needs_background": "light"
     },
     "output_type": "display_data"
    }
   ],
   "source": [
    "train['Fare_Range'] = pd.qcut(train['Fare'], 4)\n",
    " \n",
    "sns.barplot(x ='Fare_Range', y ='Survived',\n",
    "data = train)"
   ]
  },
  {
   "cell_type": "markdown",
   "metadata": {},
   "source": [
    "# 3. Feature Engineering & Preprocessings"
   ]
  },
  {
   "cell_type": "markdown",
   "metadata": {},
   "source": [
    "Separates features and target variables."
   ]
  },
  {
   "cell_type": "code",
   "execution_count": 135,
   "metadata": {
    "execution": {
     "iopub.execute_input": "2021-12-25T09:57:40.541603Z",
     "iopub.status.busy": "2021-12-25T09:57:40.541343Z",
     "iopub.status.idle": "2021-12-25T09:57:40.548789Z",
     "shell.execute_reply": "2021-12-25T09:57:40.547804Z",
     "shell.execute_reply.started": "2021-12-25T09:57:40.541574Z"
    }
   },
   "outputs": [],
   "source": [
    "X = train.drop(['Survived'], axis=1)\n",
    "Y = train[['Survived']]"
   ]
  },
  {
   "cell_type": "code",
   "execution_count": 136,
   "metadata": {
    "execution": {
     "iopub.execute_input": "2021-12-25T09:57:40.899164Z",
     "iopub.status.busy": "2021-12-25T09:57:40.898354Z",
     "iopub.status.idle": "2021-12-25T09:57:40.904903Z",
     "shell.execute_reply": "2021-12-25T09:57:40.903934Z",
     "shell.execute_reply.started": "2021-12-25T09:57:40.899119Z"
    }
   },
   "outputs": [],
   "source": [
    "encoder = LabelEncoder()\n",
    "Y = encoder.fit_transform(Y.Survived)"
   ]
  },
  {
   "cell_type": "code",
   "execution_count": 137,
   "metadata": {
    "execution": {
     "iopub.execute_input": "2021-12-25T09:57:41.258063Z",
     "iopub.status.busy": "2021-12-25T09:57:41.257734Z",
     "iopub.status.idle": "2021-12-25T09:57:41.270819Z",
     "shell.execute_reply": "2021-12-25T09:57:41.269446Z",
     "shell.execute_reply.started": "2021-12-25T09:57:41.25803Z"
    }
   },
   "outputs": [],
   "source": [
    "# The following class is an example of Scikit-Learn custom transformers. You have already \n",
    "# used StandardScaler, MinMaxScaler, etc., which are just some built-in transformers that\n",
    "# transforms your data.\n",
    "class ProcessData(BaseEstimator, TransformerMixin):\n",
    "    def __init__(self, train=True):\n",
    "        pass\n",
    "    \n",
    "    def fit(self, X, y=None):\n",
    "        return self\n",
    "    \n",
    "    def transform(self, X, y=None):\n",
    "        print('Transforming data...')\n",
    "        \n",
    "        # First we want a deep copy of the dataframe beacuse we do not want to\n",
    "        # change the original one.\n",
    "        x_copy = X.copy()\n",
    "        # Drops passenger Ids, Names, Ticket Numbers, and Cabin Names as they\n",
    "        # are not the discerning factors.\n",
    "        x_copy.drop(['PassengerId', 'Name', 'Ticket', 'Cabin'], axis=1, inplace=True)\n",
    "        # Replaces 0.0 fares with average fair. I assume that 0.0 is actually a null value.\n",
    "        x_copy[x_copy.Fare == 0.0].Fare = np.mean\n",
    "        # Converts Fare column into a logarithmic scale since its distribution was too skewed.\n",
    "        x_copy.Fare = np.log(x_copy.Fare + 0.000001)\n",
    "        # Encodes numeric values into categorical one\n",
    "        x_copy.Pclass = x_copy.Pclass.map({\n",
    "            1: 'First',\n",
    "            2: 'Second',\n",
    "            3: 'Third'\n",
    "        })\n",
    "        # Imputes null Age values with average age and then bins Age into categories.\n",
    "        x_copy[x_copy.Age.isnull()].Age = np.mean(x_copy.Age)\n",
    "        bins= [0, 2, 4, 13, 20, 50, 70, 110]\n",
    "        labels = ['Infant','Toddler','Kid','Teen','Adult', 'Old', 'Venerable']\n",
    "        x_copy['AgeGroup'] = pd.cut(x_copy['Age'], bins=bins, labels=labels, right=False)\n",
    "        x_copy.drop(['Age'], axis=1, inplace=True)\n",
    "        # Gets One Hot Encodings\n",
    "        x_copy = pd.get_dummies(x_copy)\n",
    "        \n",
    "        return x_copy"
   ]
  },
  {
   "cell_type": "code",
   "execution_count": 138,
   "metadata": {
    "execution": {
     "iopub.execute_input": "2021-12-25T09:57:41.617321Z",
     "iopub.status.busy": "2021-12-25T09:57:41.617029Z",
     "iopub.status.idle": "2021-12-25T09:57:41.65927Z",
     "shell.execute_reply": "2021-12-25T09:57:41.658395Z",
     "shell.execute_reply.started": "2021-12-25T09:57:41.617279Z"
    }
   },
   "outputs": [
    {
     "name": "stdout",
     "output_type": "stream",
     "text": [
      "Transforming data...\n",
      "Transforming data...\n"
     ]
    },
    {
     "name": "stderr",
     "output_type": "stream",
     "text": [
      "C:\\Users\\z2m09\\anaconda3\\lib\\site-packages\\pandas\\core\\generic.py:5494: SettingWithCopyWarning: \n",
      "A value is trying to be set on a copy of a slice from a DataFrame.\n",
      "Try using .loc[row_indexer,col_indexer] = value instead\n",
      "\n",
      "See the caveats in the documentation: https://pandas.pydata.org/pandas-docs/stable/user_guide/indexing.html#returning-a-view-versus-a-copy\n",
      "  self[name] = value\n",
      "C:\\Users\\z2m09\\anaconda3\\lib\\site-packages\\pandas\\core\\generic.py:5494: SettingWithCopyWarning: \n",
      "A value is trying to be set on a copy of a slice from a DataFrame.\n",
      "Try using .loc[row_indexer,col_indexer] = value instead\n",
      "\n",
      "See the caveats in the documentation: https://pandas.pydata.org/pandas-docs/stable/user_guide/indexing.html#returning-a-view-versus-a-copy\n",
      "  self[name] = value\n"
     ]
    }
   ],
   "source": [
    "processor = ProcessData()\n",
    "processor.fit(X)\n",
    "x_train_processed = processor.transform(X)\n",
    "x_test_processed = processor.transform(test)"
   ]
  },
  {
   "cell_type": "code",
   "execution_count": 141,
   "metadata": {
    "execution": {
     "iopub.execute_input": "2021-12-25T09:57:41.969009Z",
     "iopub.status.busy": "2021-12-25T09:57:41.967838Z",
     "iopub.status.idle": "2021-12-25T09:57:41.981534Z",
     "shell.execute_reply": "2021-12-25T09:57:41.980783Z",
     "shell.execute_reply.started": "2021-12-25T09:57:41.968949Z"
    }
   },
   "outputs": [
    {
     "data": {
      "text/plain": [
       "'\\nscaler = MinMaxScaler()\\nscaler.fit(x_train_processed)\\nx_train_processed = scaler.transform(x_train_processed)\\nx_test_processed = scaler.transform(x_test_processed)\\n'"
      ]
     },
     "execution_count": 141,
     "metadata": {},
     "output_type": "execute_result"
    }
   ],
   "source": [
    "\"\"\"\n",
    "scaler = MinMaxScaler()\n",
    "scaler.fit(x_train_processed)\n",
    "x_train_processed = scaler.transform(x_train_processed)\n",
    "x_test_processed = scaler.transform(x_test_processed)\n",
    "\"\"\""
   ]
  },
  {
   "cell_type": "code",
   "execution_count": 142,
   "metadata": {
    "execution": {
     "iopub.execute_input": "2021-12-25T09:57:42.350415Z",
     "iopub.status.busy": "2021-12-25T09:57:42.349351Z",
     "iopub.status.idle": "2021-12-25T09:57:42.355257Z",
     "shell.execute_reply": "2021-12-25T09:57:42.354613Z",
     "shell.execute_reply.started": "2021-12-25T09:57:42.350361Z"
    }
   },
   "outputs": [
    {
     "name": "stdout",
     "output_type": "stream",
     "text": [
      "(891, 22)\n",
      "(418, 18)\n"
     ]
    }
   ],
   "source": [
    "print(x_train_processed.shape)\n",
    "print(x_test_processed.shape)"
   ]
  },
  {
   "cell_type": "markdown",
   "metadata": {},
   "source": [
    "**Challange**: **Can you make this preprocessing more streamlined or automated. You may take help from the following [blog](https://towardsdatascience.com/pipelines-custom-transformers-in-scikit-learn-the-step-by-step-guide-with-python-code-4a7d9b068156).**"
   ]
  },
  {
   "cell_type": "markdown",
   "metadata": {},
   "source": [
    "# 4. Model"
   ]
  },
  {
   "cell_type": "markdown",
   "metadata": {},
   "source": [
    "`LightGBM` is a popular library of RandomForest. Another one is called `XGboost`. Here we have used `LightGBM` to build a random forest."
   ]
  },
  {
   "cell_type": "markdown",
   "metadata": {},
   "source": [
    "**Challange**: **Can you use GridSearch to further tune the hyper-parameters? You can take help from this [blog](https://towardsdatascience.com/hyper-parameter-tuning-in-python-1923797f124f)**"
   ]
  },
  {
   "cell_type": "code",
   "execution_count": 143,
   "metadata": {
    "execution": {
     "iopub.execute_input": "2021-12-25T09:57:43.967163Z",
     "iopub.status.busy": "2021-12-25T09:57:43.966255Z",
     "iopub.status.idle": "2021-12-25T09:57:43.972596Z",
     "shell.execute_reply": "2021-12-25T09:57:43.971911Z",
     "shell.execute_reply.started": "2021-12-25T09:57:43.967112Z"
    }
   },
   "outputs": [
    {
     "data": {
      "text/plain": [
       "\"\\nrf_clf = lightgbm.LGBMClassifier(\\n    boosting_type='gbdt',\\n    num_leaves=31,\\n    max_depth=8,\\n    learning_rate=0.01,\\n    n_estimators=100,\\n    objective='binary',\\n    min_split_gain=0.5,\\n    metric='auc',\\n    random_state=27\\n)\\n\""
      ]
     },
     "execution_count": 143,
     "metadata": {},
     "output_type": "execute_result"
    }
   ],
   "source": [
    "\"\"\"\n",
    "rf_clf = lightgbm.LGBMClassifier(\n",
    "    boosting_type='gbdt',\n",
    "    num_leaves=31,\n",
    "    max_depth=8,\n",
    "    learning_rate=0.01,\n",
    "    n_estimators=100,\n",
    "    objective='binary',\n",
    "    min_split_gain=0.5,\n",
    "    metric='auc',\n",
    "    random_state=27\n",
    ")\n",
    "\"\"\""
   ]
  },
  {
   "cell_type": "code",
   "execution_count": 146,
   "metadata": {},
   "outputs": [
    {
     "name": "stdout",
     "output_type": "stream",
     "text": [
      "Fitting 5 folds for each of 342 candidates, totalling 1710 fits\n"
     ]
    },
    {
     "data": {
      "text/plain": [
       "GridSearchCV(cv=5, estimator=RandomForestRegressor(random_state=0), n_jobs=-1,\n",
       "             param_grid={'max_features': array([0.1 , 0.15, 0.2 , 0.25, 0.3 , 0.35, 0.4 , 0.45, 0.5 , 0.55, 0.6 ,\n",
       "       0.65, 0.7 , 0.75, 0.8 , 0.85, 0.9 , 0.95]),\n",
       "                         'n_estimators': array([ 5, 10, 15, 20, 25, 30, 35, 40, 45, 50, 55, 60, 65, 70, 75, 80, 85,\n",
       "       90, 95])},\n",
       "             scoring='r2', verbose=1)"
      ]
     },
     "execution_count": 146,
     "metadata": {},
     "output_type": "execute_result"
    }
   ],
   "source": [
    "from sklearn.model_selection import GridSearchCV\n",
    "from sklearn.ensemble import RandomForestRegressor\n",
    "\n",
    "X_train, X_test, y_train, y_test = train_test_split(x_train_processed, Y, test_size=0.2, stratify=Y)\n",
    "#rf_clf.fit(X_train, y_train, eval_set=[(X_test, y_test)],\n",
    "        #eval_metric='f1', early_stopping_rounds=50)\n",
    "\n",
    "grid_search = GridSearchCV(RandomForestRegressor(random_state=0),\n",
    "                           {\n",
    "                              'n_estimators':np.arange(5,100,5),\n",
    "                              'max_features':np.arange(0.1,1.0,0.05),\n",
    "                            \n",
    "                            },cv=5, scoring=\"r2\",verbose=1,n_jobs=-1\n",
    "                           )\n",
    "grid_search.fit(X_train,y_train)"
   ]
  },
  {
   "cell_type": "markdown",
   "metadata": {},
   "source": [
    "# 5. Evaluation"
   ]
  },
  {
   "cell_type": "markdown",
   "metadata": {},
   "source": [
    "**Challange**: **Can you draw a confusion matrix and report metrics like precision, recall, and f1 score?**"
   ]
  },
  {
   "cell_type": "code",
   "execution_count": 148,
   "metadata": {
    "execution": {
     "iopub.execute_input": "2021-12-25T10:00:03.521871Z",
     "iopub.status.busy": "2021-12-25T10:00:03.521493Z",
     "iopub.status.idle": "2021-12-25T10:00:03.533543Z",
     "shell.execute_reply": "2021-12-25T10:00:03.532793Z",
     "shell.execute_reply.started": "2021-12-25T10:00:03.521831Z"
    }
   },
   "outputs": [
    {
     "name": "stdout",
     "output_type": "stream",
     "text": [
      "Accuracy:  0.7877094972067039\n"
     ]
    }
   ],
   "source": [
    "from sklearn.ensemble import RandomForestClassifier\n",
    "rf_clf = RandomForestClassifier(n_estimators = 500, max_depth=12)\n",
    "rf_clf.fit(X_train, y_train)\n",
    "predictions = rf_clf.predict(X_test)\n",
    "print('Accuracy: ', accuracy_score(y_test, predictions))"
   ]
  },
  {
   "cell_type": "code",
   "execution_count": 149,
   "metadata": {},
   "outputs": [
    {
     "data": {
      "image/png": "[encoded data removed]",
      "text/plain": [
       "<Figure size 360x360 with 1 Axes>"
      ]
     },
     "metadata": {
      "needs_background": "light"
     },
     "output_type": "display_data"
    }
   ],
   "source": [
    "from sklearn.metrics import confusion_matrix\n",
    "from sklearn.metrics import precision_score, recall_score, f1_score, accuracy_score\n",
    "\n",
    "conf_matrix = confusion_matrix(y_true=y_test, y_pred=predictions)\n",
    "\n",
    "fig, ax = plt.subplots(figsize=(5, 5))\n",
    "ax.matshow(conf_matrix, cmap=plt.cm.Oranges, alpha=0.3)\n",
    "for i in range(conf_matrix.shape[0]):\n",
    "    for j in range(conf_matrix.shape[1]):\n",
    "        ax.text(x=j, y=i,s=conf_matrix[i, j], va='center', ha='center', size='xx-large')\n",
    " \n",
    "plt.xlabel('Predictions', fontsize=18)\n",
    "plt.ylabel('Actuals', fontsize=18)\n",
    "plt.title('Confusion Matrix', fontsize=18)\n",
    "plt.show()"
   ]
  },
  {
   "cell_type": "code",
   "execution_count": null,
   "metadata": {},
   "outputs": [],
   "source": []
  }
 ],
 "metadata": {
  "kernelspec": {
   "display_name": "Python 3 (ipykernel)",
   "language": "python",
   "name": "python3"
  },
  "language_info": {
   "codemirror_mode": {
    "name": "ipython",
    "version": 3
   },
   "file_extension": ".py",
   "mimetype": "text/x-python",
   "name": "python",
   "nbconvert_exporter": "python",
   "pygments_lexer": "ipython3",
   "version": "3.11.5"
  }
 },
 "nbformat": 4,
 "nbformat_minor": 4
}
